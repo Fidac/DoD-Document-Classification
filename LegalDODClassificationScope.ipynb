{
  "cells": [
    {
      "cell_type": "code",
      "execution_count": null,
      "metadata": {
        "id": "AAFhGAA6xcib"
      },
      "outputs": [],
      "source": [
        "from google.colab import drive\n",
        "drive.mount('/content/gdrive')"
      ]
    },
    {
      "cell_type": "code",
      "execution_count": null,
      "metadata": {
        "id": "6yGW9pWayDQ7"
      },
      "outputs": [],
      "source": [
        "%cd ./gdrive/MyDrive/DOD\\ Dataset"
      ]
    },
    {
      "cell_type": "code",
      "execution_count": null,
      "metadata": {
        "id": "rmVIsWGryY40"
      },
      "outputs": [],
      "source": [
        "!pip install transformers\n",
        "!pip install sentence-transformers\n",
        "!pip install datasets\n",
        "!pip install evaluate"
      ]
    },
    {
      "cell_type": "code",
      "execution_count": null,
      "metadata": {
        "id": "fdjnXU5HDER9"
      },
      "outputs": [],
      "source": [
        "from torch.utils.data import Dataset, random_split\n",
        "from pathlib import Path\n",
        "from pandas import read_csv, concat\n",
        "import numpy as np\n",
        "\n",
        "\n",
        "\n",
        "class ScopeDataset(Dataset):\n",
        "    def __init__(self, data_dir: str):\n",
        "        data_dir = Path(data_dir)\n",
        "\n",
        "        type_df = read_csv(data_dir / \"entailment_scope_negative_sampling.csv\")\n",
        "        self.len = len(type_df)\n",
        "        self.examples = type_df\n",
        "\n",
        "\n",
        "    def __getitem__(self, i):\n",
        "        label = self.examples.iloc[i].label\n",
        "\n",
        "        return {\n",
        "            \"p1\": self.examples.iloc[i].p1,\n",
        "            \"p2\": self.examples.iloc[i].p2,\n",
        "            \"label\": label,\n",
        "        }\n",
        "\n",
        "    def __len__(self):\n",
        "        return len(self.examples)"
      ]
    },
    {
      "cell_type": "code",
      "execution_count": null,
      "metadata": {
        "id": "BYuYyyxat_XF"
      },
      "outputs": [],
      "source": [
        "dataset = ScopeDataset('./')"
      ]
    },
    {
      "cell_type": "code",
      "execution_count": null,
      "metadata": {
        "id": "GqnqyaQ3yn-M"
      },
      "outputs": [],
      "source": [
        "positives = [x for x in dataset if x['label'] == 1]\n",
        "negatives = [x for x in dataset if x['label'] == 0]"
      ]
    },
    {
      "cell_type": "code",
      "execution_count": null,
      "metadata": {
        "id": "FoNgysKBuD0r"
      },
      "outputs": [],
      "source": [
        "len(dataset), len(positives), len(negatives)"
      ]
    },
    {
      "cell_type": "code",
      "execution_count": null,
      "metadata": {
        "id": "MduZvMVr0Rge"
      },
      "outputs": [],
      "source": [
        "import random\n",
        "def getNegativeExamples(data):\n",
        "    count = len(data)\n",
        "    neg = []\n",
        "\n",
        "    while count > 0:\n",
        "      element1 = random.choice(data)\n",
        "      p11 = element1['p1']\n",
        "\n",
        "      element2 = random.choice(data)\n",
        "      p12 = element2['p1']\n",
        "      p22 = element2['p2']\n",
        "\n",
        "      if p11 != p12 and p11 != p22:\n",
        "        new_e = {}\n",
        "        new_e['p1'] = p11\n",
        "        new_e['p2'] = element2['p2']\n",
        "        new_e['label'] = 0\n",
        "\n",
        "        neg.append(new_e)\n",
        "\n",
        "        count -= 1\n",
        "\n",
        "    return neg"
      ]
    },
    {
      "cell_type": "code",
      "execution_count": null,
      "metadata": {
        "id": "sLDbG4KM0LLM"
      },
      "outputs": [],
      "source": [
        "positives = [x for x in dataset if x['label'] == 1]\n",
        "negatives = [x for x in dataset if x['label'] == 0]"
      ]
    },
    {
      "cell_type": "code",
      "execution_count": null,
      "metadata": {
        "id": "fI4s_6BK0GRK"
      },
      "outputs": [],
      "source": [
        "len(dataset)"
      ]
    },
    {
      "cell_type": "code",
      "execution_count": null,
      "metadata": {
        "id": "cI9L_5dpy2AJ"
      },
      "outputs": [],
      "source": [
        "positives = ScopeDataset('./')"
      ]
    },
    {
      "cell_type": "code",
      "execution_count": null,
      "metadata": {
        "id": "Aup-qGv7y4p8"
      },
      "outputs": [],
      "source": [
        "len(positives)"
      ]
    },
    {
      "cell_type": "code",
      "execution_count": null,
      "metadata": {
        "id": "A6SoBAVT7I_z"
      },
      "outputs": [],
      "source": [
        "positives[5000]"
      ]
    },
    {
      "cell_type": "code",
      "execution_count": null,
      "metadata": {
        "id": "COm3QOUP1K5z"
      },
      "outputs": [],
      "source": [
        "negatives = getNegativeExamples(positives)\n",
        "len(negatives)"
      ]
    },
    {
      "cell_type": "code",
      "execution_count": null,
      "metadata": {
        "id": "6Dd_9eXxcbpo"
      },
      "outputs": [],
      "source": [
        "len(negatives)"
      ]
    },
    {
      "cell_type": "code",
      "execution_count": null,
      "metadata": {
        "id": "az7dOs5Rcd9l"
      },
      "outputs": [],
      "source": [
        "dataset = positives + negatives"
      ]
    },
    {
      "cell_type": "code",
      "execution_count": null,
      "metadata": {
        "id": "p2QWqLCRcf4s"
      },
      "outputs": [],
      "source": [
        "len(dataset)"
      ]
    },
    {
      "cell_type": "code",
      "execution_count": null,
      "metadata": {
        "id": "QosLAfUfc6GC"
      },
      "outputs": [],
      "source": [
        "data = [x for x in dataset]"
      ]
    },
    {
      "cell_type": "code",
      "execution_count": null,
      "metadata": {
        "id": "cQxYX4AedH7f"
      },
      "outputs": [],
      "source": [
        "len(data)"
      ]
    },
    {
      "cell_type": "code",
      "execution_count": null,
      "metadata": {
        "id": "mhVhCCzjcj84"
      },
      "outputs": [],
      "source": [
        "import pandas as pd\n",
        "\n",
        "df = pd.DataFrame(data)\n"
      ]
    },
    {
      "cell_type": "code",
      "execution_count": null,
      "metadata": {
        "id": "NgZ8ME0dc3Vo"
      },
      "outputs": [],
      "source": [
        "df.to_csv('entailment_scope_negative_sampling.csv')"
      ]
    },
    {
      "cell_type": "code",
      "execution_count": null,
      "metadata": {
        "id": "VKbnkzRQduOl"
      },
      "outputs": [],
      "source": [
        "train_dataset = []\n",
        "val_dataset = []\n",
        "test_dataset = []\n",
        "\n",
        "train_num = 60*len(positives) / 100\n",
        "val_num = 15*len(positives) / 100\n",
        "\n",
        "for i in range(len(positives)):\n",
        "    if i <= train_num:\n",
        "        train_dataset.append(positives[i])\n",
        "        train_dataset.append(negatives[i])\n",
        "\n",
        "    elif (len(positives) - i) <= val_num:\n",
        "        val_dataset.append(positives[i])\n",
        "        val_dataset.append(negatives[i])\n",
        "\n",
        "    else:\n",
        "        test_dataset.append(positives[i])\n",
        "        test_dataset.append(negatives[i])\n",
        "\n",
        "\n"
      ]
    },
    {
      "cell_type": "code",
      "execution_count": null,
      "metadata": {
        "id": "vxEUGvVAf1U9"
      },
      "outputs": [],
      "source": [
        "print(len(train_dataset), len(val_dataset), len(test_dataset))"
      ]
    },
    {
      "cell_type": "code",
      "execution_count": null,
      "metadata": {
        "id": "CHdrIagxM7L_"
      },
      "outputs": [],
      "source": [
        "pos = [x for x in test_dataset if x['label'] == 1]\n",
        "neg = [x for x in test_dataset if x['label'] == 0]\n",
        "\n",
        "print(len(pos), len(neg))"
      ]
    },
    {
      "cell_type": "code",
      "execution_count": null,
      "metadata": {
        "id": "QXUa5NbXugnW"
      },
      "outputs": [],
      "source": [
        "from datasets import load_dataset, Dataset, DatasetDict\n",
        "\n",
        "# mydataset = Dataset.from_generator(dataset)\n",
        "\n",
        "myTraindataset = Dataset.from_list(train_dataset)\n",
        "myValdataset = Dataset.from_list(val_dataset)\n",
        "myTestdataset = Dataset.from_list(test_dataset)\n",
        "\n",
        "\n",
        "mydataset = DatasetDict({\"train\": myTraindataset, \"validation\": myValdataset, \"test\":myTestdataset})"
      ]
    },
    {
      "cell_type": "code",
      "execution_count": null,
      "metadata": {
        "id": "ftcTZugVmwPK"
      },
      "outputs": [],
      "source": [
        "from datasets import load_dataset\n",
        "from transformers import AutoTokenizer, DataCollatorWithPadding\n",
        "\n",
        "#raw_datasets = load_dataset(\"glue\", \"mrpc\")\n",
        "\n",
        "# facebook/bart-base\n",
        "#\"bert-base-uncased\"\n",
        "#roberta-base\n",
        "# nlpaueb/legal-bert-base-uncased\n",
        "# mukund/privbert\n",
        "\n",
        "checkpoint = \"mukund/privbert\"\n",
        "tokenizer = AutoTokenizer.from_pretrained(checkpoint)\n",
        "\n",
        "\n",
        "def tokenize_function(example):\n",
        "    return tokenizer(example[\"p1\"], example[\"p2\"], truncation=True)\n",
        "\n",
        "\n",
        "tokenized_datasets = mydataset.map(tokenize_function, batched=True)\n",
        "data_collator = DataCollatorWithPadding(tokenizer=tokenizer)"
      ]
    },
    {
      "cell_type": "code",
      "execution_count": null,
      "metadata": {
        "id": "Rorpz4WVm0KO"
      },
      "outputs": [],
      "source": [
        "mydataset"
      ]
    },
    {
      "cell_type": "code",
      "execution_count": null,
      "metadata": {
        "id": "EMBDLfLB-AOI"
      },
      "outputs": [],
      "source": [
        "mydataset['train'][0]"
      ]
    },
    {
      "cell_type": "code",
      "execution_count": null,
      "metadata": {
        "id": "VYr-rxm3pJHq"
      },
      "outputs": [],
      "source": [
        "from transformers import TrainingArguments, Trainer, logging\n",
        "\n",
        "# training_args = TrainingArguments(\"test-trainer\")\n",
        "\n",
        "default_args = {\n",
        "    \"output_dir\": \"./\",\n",
        "    \"evaluation_strategy\": \"epoch\",\n",
        "    \"num_train_epochs\": 6,\n",
        "    # \"log_level\": \"error\",\n",
        "    \"logging_steps\": 1,\n",
        "    \"log_level\" : \"info\",\n",
        "    \"report_to\": \"none\",\n",
        "}\n",
        "\n",
        "training_args = TrainingArguments(per_device_train_batch_size=64,\n",
        "                                  # gradient_accumulation_steps=32,\n",
        "                                  gradient_checkpointing=True,\n",
        "                                  # optim=\"adafactor\",\n",
        "                                  **default_args,\n",
        "                                )"
      ]
    },
    {
      "cell_type": "code",
      "execution_count": null,
      "metadata": {
        "id": "L64gZ3vBwCuL"
      },
      "outputs": [],
      "source": [
        "training_args"
      ]
    },
    {
      "cell_type": "code",
      "execution_count": null,
      "metadata": {
        "id": "nkPCrnNFuAms"
      },
      "outputs": [],
      "source": [
        "from transformers import AutoModelForSequenceClassification\n",
        "\n",
        "model = AutoModelForSequenceClassification.from_pretrained(checkpoint, num_labels=2)"
      ]
    },
    {
      "cell_type": "code",
      "execution_count": null,
      "metadata": {
        "id": "SI0UmyYZ-BTr"
      },
      "outputs": [],
      "source": [
        "from datasets import load_metric\n",
        "from sklearn.metrics import mean_squared_error\n",
        "import evaluate\n",
        "import numpy as np\n",
        "\n",
        "\n",
        "accuracy = evaluate.load(\"accuracy\")\n",
        "\n",
        "# imdb = load_dataset(\"imdb\")\n",
        "\n",
        "f1 = evaluate.load(\"f1\")\n",
        "\n",
        "# imdb = load_dataset(\"imdb\")\n",
        "\n",
        "\n",
        "#F1\n",
        "def compute_metrics(eval_pred):\n",
        "    predictions, labels = eval_pred\n",
        "    predictions = np.argmax(predictions, axis=1)\n",
        "\n",
        "    microF1 = f1.compute(predictions=predictions, references=labels, average='micro')\n",
        "    macroF1 = f1.compute(predictions=predictions, references=labels, average='macro')\n",
        "    weightF1 = f1.compute(predictions=predictions, references=labels, average='weighted')\n",
        "\n",
        "    return {\"micro-F1\": microF1, \"macroF1\": macroF1, \"weightF1\": weightF1}\n",
        "\n",
        "\n",
        "# def compute_metrics(eval_pred):\n",
        "#     predictions, labels = eval_pred\n",
        "#     predictions = np.argmax(predictions, axis=1)\n",
        "#     return accuracy.compute(predictions=predictions, references=labels)"
      ]
    },
    {
      "cell_type": "code",
      "execution_count": null,
      "metadata": {
        "id": "R471UJmTuEN-"
      },
      "outputs": [],
      "source": [
        "from transformers import Trainer, TrainerCallback\n",
        "import torch\n",
        "\n",
        "\n",
        "trainer = Trainer(\n",
        "    model,\n",
        "    training_args,\n",
        "    train_dataset=tokenized_datasets[\"train\"],\n",
        "    eval_dataset=tokenized_datasets[\"validation\"],\n",
        "    data_collator=data_collator,\n",
        "    tokenizer=tokenizer,\n",
        "    compute_metrics=compute_metrics\n",
        "    # callbacks=[GPUCallback()]\n",
        ")"
      ]
    },
    {
      "cell_type": "code",
      "execution_count": null,
      "metadata": {
        "id": "unCttXl2THew"
      },
      "outputs": [],
      "source": [
        "!nvidia-smi"
      ]
    },
    {
      "cell_type": "code",
      "execution_count": null,
      "metadata": {
        "id": "Webk8RJxTTtP"
      },
      "outputs": [],
      "source": [
        "import torch\n",
        "torch.cuda.empty_cache()"
      ]
    },
    {
      "cell_type": "code",
      "execution_count": null,
      "metadata": {
        "id": "FGHDLqdpvi9o"
      },
      "outputs": [],
      "source": [
        "trainer.train()"
      ]
    },
    {
      "cell_type": "code",
      "execution_count": null,
      "metadata": {
        "id": "tZdHFmuoXiBQ"
      },
      "outputs": [],
      "source": [
        "trainer.save_model()"
      ]
    },
    {
      "cell_type": "code",
      "execution_count": null,
      "metadata": {
        "id": "-qf9jPnoll2G"
      },
      "outputs": [],
      "source": [
        "from transformers import Trainer, TrainerCallback\n",
        "import torch\n",
        "\n",
        "\n",
        "trainer = Trainer(\n",
        "    model,\n",
        "    training_args,\n",
        "    train_dataset=tokenized_datasets[\"train\"],\n",
        "    eval_dataset=tokenized_datasets[\"test\"],\n",
        "    data_collator=data_collator,\n",
        "    tokenizer=tokenizer,\n",
        "    compute_metrics=compute_metrics\n",
        "    # callbacks=[GPUCallback()]\n",
        ")"
      ]
    },
    {
      "cell_type": "code",
      "execution_count": null,
      "metadata": {
        "id": "pDv-tw34fgBR"
      },
      "outputs": [],
      "source": [
        "trainer.evaluate()"
      ]
    }
  ],
  "metadata": {
    "accelerator": "GPU",
    "colab": {
      "machine_shape": "hm",
      "provenance": []
    },
    "gpuClass": "standard",
    "kernelspec": {
      "display_name": "Python 3",
      "name": "python3"
    },
    "language_info": {
      "name": "python"
    }
  },
  "nbformat": 4,
  "nbformat_minor": 0
}