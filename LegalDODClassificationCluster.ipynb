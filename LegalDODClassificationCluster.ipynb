{
  "cells": [
    {
      "cell_type": "code",
      "execution_count": null,
      "metadata": {
        "id": "AAFhGAA6xcib"
      },
      "outputs": [],
      "source": [
        "from google.colab import drive\n",
        "drive.mount('/content/gdrive')"
      ]
    },
    {
      "cell_type": "code",
      "execution_count": null,
      "metadata": {
        "id": "6yGW9pWayDQ7"
      },
      "outputs": [],
      "source": [
        "%cd ./gdrive/MyDrive/DOD\\ Dataset"
      ]
    },
    {
      "cell_type": "code",
      "execution_count": null,
      "metadata": {
        "id": "rmVIsWGryY40"
      },
      "outputs": [],
      "source": [
        "!pip install transformers\n",
        "!pip install sentence-transformers\n",
        "!pip install datasets\n",
        "!pip install evaluate"
      ]
    },
    {
      "cell_type": "code",
      "execution_count": null,
      "metadata": {
        "id": "fdjnXU5HDER9"
      },
      "outputs": [],
      "source": [
        "from torch.utils.data import Dataset, random_split\n",
        "from pathlib import Path\n",
        "from pandas import read_csv, concat\n",
        "import numpy as np\n",
        "\n",
        "\n",
        "\n",
        "class ClusterDataset(Dataset):\n",
        "    def __init__(self, data_dir: str):\n",
        "        data_dir = Path(data_dir)\n",
        "\n",
        "        type_df = read_csv(data_dir / \"cluster_dataset.csv\")\n",
        "        self.len = len(type_df)\n",
        "        self.examples = type_df\n",
        "        labels = [x.label for x in self.examples.iloc]\n",
        "        labels = set(labels)\n",
        "        labels = list(labels)\n",
        "        print(\"These are the labels: \", labels)\n",
        "        self.m = {}\n",
        "        for i, l in enumerate(labels):\n",
        "            self.m[l] = i\n",
        "\n",
        "\n",
        "    def __getitem__(self, i):\n",
        "\n",
        "        label = self.examples.iloc[i].label\n",
        "        label = self.m[label]\n",
        "\n",
        "        return {\n",
        "            \"text\": self.examples.iloc[i].text,\n",
        "            \"label\": label,\n",
        "        }\n",
        "\n",
        "    def __len__(self):\n",
        "        return len(self.examples)"
      ]
    },
    {
      "cell_type": "code",
      "execution_count": null,
      "metadata": {
        "id": "cI9L_5dpy2AJ"
      },
      "outputs": [],
      "source": [
        "dataset = ClusterDataset('./')"
      ]
    },
    {
      "cell_type": "code",
      "execution_count": null,
      "metadata": {
        "id": "Aup-qGv7y4p8"
      },
      "outputs": [],
      "source": [
        "len(dataset)"
      ]
    },
    {
      "cell_type": "code",
      "execution_count": null,
      "metadata": {
        "id": "A6SoBAVT7I_z"
      },
      "outputs": [],
      "source": [
        "dataset[5000]"
      ]
    },
    {
      "cell_type": "code",
      "source": [
        "plt.savefig('cluster.png')"
      ],
      "metadata": {
        "id": "pKX8sbs-OtWz"
      },
      "execution_count": null,
      "outputs": []
    },
    {
      "cell_type": "code",
      "source": [
        "import matplotlib.pyplot as plt\n",
        "import numpy as np\n",
        "\n",
        "data = [len(organize), len(prepare), len(authorities), len(national_federal), len(anticipate), len(enable)]\n",
        "x_labels = ['Organize', 'Prepare', 'Authorities', 'National/Federal', 'Anticipate', 'Enable']\n",
        "\n",
        "fig, ax = plt.subplots(figsize=(9, 7))\n",
        "# fig, ax = plt.subplots()\n",
        "ax.bar(x_labels, data, color='gray')\n",
        "\n",
        "ax.set_title('Bar Chart')\n",
        "# ax.set_xlabel('X Axis Label')\n",
        "# ax.set_ylabel('Y Axis Label')\n",
        "\n",
        "plt.show()"
      ],
      "metadata": {
        "id": "cW_NrPGeN4yd"
      },
      "execution_count": null,
      "outputs": []
    },
    {
      "cell_type": "code",
      "source": [
        "organize = [x for x in dataset if x['label'] == 0]\n",
        "prepare = [x for x in dataset if x['label'] == 1]\n",
        "authorities = [x for x in dataset if x['label'] == 2]\n",
        "national_federal = [x for x in dataset if x['label'] == 3]\n",
        "anticipate = [x for x in dataset if x['label'] == 4]\n",
        "enable = [x for x in dataset if x['label'] == 5]"
      ],
      "metadata": {
        "id": "bQ4877z1dTbK"
      },
      "execution_count": null,
      "outputs": []
    },
    {
      "cell_type": "code",
      "source": [
        "print(len(organize), len(prepare), len(authorities), len(national_federal), len(anticipate), len(enable))"
      ],
      "metadata": {
        "id": "45PC-fyjdagm"
      },
      "execution_count": null,
      "outputs": []
    },
    {
      "cell_type": "code",
      "source": [
        "m_datasets = {}\n",
        "m_datasets[0] = organize\n",
        "m_datasets[1] = prepare\n",
        "m_datasets[2] = authorities\n",
        "m_datasets[3] = national_federal\n",
        "m_datasets[4] = anticipate\n",
        "m_datasets[5] = enable"
      ],
      "metadata": {
        "id": "JqGDIqldbrpi"
      },
      "execution_count": null,
      "outputs": []
    },
    {
      "cell_type": "code",
      "source": [
        "import random\n",
        "\n",
        "train_dataset = []\n",
        "val_dataset = []\n",
        "test_dataset = []\n",
        "\n",
        "\n",
        "def getRandomFromData(data, percent):\n",
        "    size = int((percent * len(data)) / 100)\n",
        "\n",
        "    output = []\n",
        "    for i in range(size):\n",
        "        element = random.choice(data)\n",
        "        output.append(element)\n",
        "        data.remove(element)\n",
        "\n",
        "    return output, data\n",
        "\n",
        "num_types = len(m_datasets.keys())\n",
        "\n",
        "for i in range(num_types):\n",
        "    dat = m_datasets[i]\n",
        "    train_d, dat = getRandomFromData(dat, 60)\n",
        "    val_d, dat = getRandomFromData(dat, 15)\n",
        "    test_d, dat = getRandomFromData(dat, 25)\n",
        "\n",
        "    train_dataset += train_d\n",
        "    val_dataset += val_d\n",
        "    test_dataset += test_d"
      ],
      "metadata": {
        "id": "VKbnkzRQduOl"
      },
      "execution_count": null,
      "outputs": []
    },
    {
      "cell_type": "code",
      "source": [
        "print(len(train_dataset), len(val_dataset), len(test_dataset))"
      ],
      "metadata": {
        "id": "vxEUGvVAf1U9"
      },
      "execution_count": null,
      "outputs": []
    },
    {
      "cell_type": "code",
      "source": [
        "organize = [x for x in test_dataset if x['label'] == 0]\n",
        "prepare = [x for x in test_dataset if x['label'] == 1]\n",
        "authorities = [x for x in test_dataset if x['label'] == 2]\n",
        "national_federal = [x for x in test_dataset if x['label'] == 3]\n",
        "anticipate = [x for x in test_dataset if x['label'] == 4]\n",
        "enable = [x for x in test_dataset if x['label'] == 5]"
      ],
      "metadata": {
        "id": "7xFZlLrRb6FT"
      },
      "execution_count": null,
      "outputs": []
    },
    {
      "cell_type": "code",
      "source": [
        "print(len(organize), len(prepare), len(authorities), len(national_federal), len(anticipate), len(enable))"
      ],
      "metadata": {
        "id": "NUL6uqivb6JS"
      },
      "execution_count": null,
      "outputs": []
    },
    {
      "cell_type": "code",
      "execution_count": null,
      "metadata": {
        "id": "QXUa5NbXugnW"
      },
      "outputs": [],
      "source": [
        "from datasets import load_dataset, Dataset, DatasetDict\n",
        "\n",
        "# mydataset = Dataset.from_generator(dataset)\n",
        "\n",
        "myTraindataset = Dataset.from_list(train_dataset)\n",
        "myValdataset = Dataset.from_list(val_dataset)\n",
        "myTestdataset = Dataset.from_list(test_dataset)\n",
        "\n",
        "\n",
        "mydataset = DatasetDict({\"train\": myTraindataset, \"validation\": myValdataset, \"test\":myTestdataset})"
      ]
    },
    {
      "cell_type": "code",
      "execution_count": null,
      "metadata": {
        "id": "ftcTZugVmwPK"
      },
      "outputs": [],
      "source": [
        "from datasets import load_dataset\n",
        "from transformers import AutoTokenizer, DataCollatorWithPadding\n",
        "\n",
        "#raw_datasets = load_dataset(\"glue\", \"mrpc\")\n",
        "\n",
        "# facebook/bart-base\n",
        "#\"bert-base-uncased\"\n",
        "\n",
        "\n",
        "checkpoint = \"mukund/privbert\"\n",
        "tokenizer = AutoTokenizer.from_pretrained(checkpoint)\n",
        "\n",
        "\n",
        "def tokenize_function(example):\n",
        "    return tokenizer(example[\"text\"], truncation=True)\n",
        "\n",
        "\n",
        "tokenized_datasets = mydataset.map(tokenize_function, batched=True)\n",
        "data_collator = DataCollatorWithPadding(tokenizer=tokenizer)"
      ]
    },
    {
      "cell_type": "code",
      "execution_count": null,
      "metadata": {
        "id": "Rorpz4WVm0KO"
      },
      "outputs": [],
      "source": [
        "mydataset"
      ]
    },
    {
      "cell_type": "code",
      "execution_count": null,
      "metadata": {
        "id": "EMBDLfLB-AOI"
      },
      "outputs": [],
      "source": [
        "mydataset['train'][0]"
      ]
    },
    {
      "cell_type": "code",
      "execution_count": null,
      "metadata": {
        "id": "VYr-rxm3pJHq"
      },
      "outputs": [],
      "source": [
        "from transformers import TrainingArguments, Trainer, logging\n",
        "\n",
        "# training_args = TrainingArguments(\"test-trainer\")\n",
        "\n",
        "default_args = {\n",
        "    \"output_dir\": \"./\",\n",
        "    \"evaluation_strategy\": \"epoch\",\n",
        "    \"num_train_epochs\": 6,\n",
        "    # \"log_level\": \"error\",\n",
        "    \"logging_steps\": 1,\n",
        "    \"log_level\" : \"info\",\n",
        "    \"report_to\": \"none\",\n",
        "}\n",
        "\n",
        "training_args = TrainingArguments(per_device_train_batch_size=64,\n",
        "                                  # gradient_accumulation_steps=32,\n",
        "                                  gradient_checkpointing=True,\n",
        "                                  # optim=\"adafactor\",\n",
        "                                  **default_args,\n",
        "                                )"
      ]
    },
    {
      "cell_type": "code",
      "execution_count": null,
      "metadata": {
        "id": "L64gZ3vBwCuL"
      },
      "outputs": [],
      "source": [
        "training_args"
      ]
    },
    {
      "cell_type": "code",
      "execution_count": null,
      "metadata": {
        "id": "nkPCrnNFuAms"
      },
      "outputs": [],
      "source": [
        "from transformers import AutoModelForSequenceClassification\n",
        "\n",
        "model = AutoModelForSequenceClassification.from_pretrained(checkpoint, num_labels=len(m_datasets.keys()))"
      ]
    },
    {
      "cell_type": "code",
      "execution_count": null,
      "metadata": {
        "id": "SI0UmyYZ-BTr"
      },
      "outputs": [],
      "source": [
        "from datasets import load_metric\n",
        "from sklearn.metrics import mean_squared_error\n",
        "import evaluate\n",
        "import numpy as np\n",
        "\n",
        "\n",
        "accuracy = evaluate.load(\"accuracy\")\n",
        "\n",
        "# imdb = load_dataset(\"imdb\")\n",
        "\n",
        "f1 = evaluate.load(\"f1\")\n",
        "\n",
        "# imdb = load_dataset(\"imdb\")\n",
        "\n",
        "\n",
        "#F1\n",
        "def compute_metrics(eval_pred):\n",
        "    predictions, labels = eval_pred\n",
        "    predictions = np.argmax(predictions, axis=1)\n",
        "\n",
        "    microF1 = f1.compute(predictions=predictions, references=labels, average='micro')\n",
        "    macroF1 = f1.compute(predictions=predictions, references=labels, average='macro')\n",
        "    weightF1 = f1.compute(predictions=predictions, references=labels, average='weighted')\n",
        "\n",
        "    return {\"micro-F1\": microF1, \"macroF1\": macroF1, \"weightF1\": weightF1}\n",
        "\n",
        "\n",
        "# def compute_metrics(eval_pred):\n",
        "#     predictions, labels = eval_pred\n",
        "#     predictions = np.argmax(predictions, axis=1)\n",
        "#     return accuracy.compute(predictions=predictions, references=labels)"
      ]
    },
    {
      "cell_type": "code",
      "execution_count": null,
      "metadata": {
        "id": "R471UJmTuEN-"
      },
      "outputs": [],
      "source": [
        "from transformers import Trainer, TrainerCallback\n",
        "import torch\n",
        "\n",
        "\n",
        "trainer = Trainer(\n",
        "    model,\n",
        "    training_args,\n",
        "    train_dataset=tokenized_datasets[\"train\"],\n",
        "    eval_dataset=tokenized_datasets[\"validation\"],\n",
        "    data_collator=data_collator,\n",
        "    tokenizer=tokenizer,\n",
        "    compute_metrics=compute_metrics\n",
        "    # callbacks=[GPUCallback()]\n",
        ")"
      ]
    },
    {
      "cell_type": "code",
      "execution_count": null,
      "metadata": {
        "id": "unCttXl2THew"
      },
      "outputs": [],
      "source": [
        "!nvidia-smi"
      ]
    },
    {
      "cell_type": "code",
      "execution_count": null,
      "metadata": {
        "id": "Webk8RJxTTtP"
      },
      "outputs": [],
      "source": [
        "import torch\n",
        "torch.cuda.empty_cache()"
      ]
    },
    {
      "cell_type": "code",
      "execution_count": null,
      "metadata": {
        "id": "FGHDLqdpvi9o"
      },
      "outputs": [],
      "source": [
        "trainer.train()"
      ]
    },
    {
      "cell_type": "code",
      "execution_count": null,
      "metadata": {
        "id": "tZdHFmuoXiBQ"
      },
      "outputs": [],
      "source": [
        "trainer.save_model()"
      ]
    },
    {
      "cell_type": "code",
      "source": [
        "from transformers import Trainer, TrainerCallback\n",
        "import torch\n",
        "\n",
        "\n",
        "trainer = Trainer(\n",
        "    model,\n",
        "    training_args,\n",
        "    train_dataset=tokenized_datasets[\"train\"],\n",
        "    eval_dataset=tokenized_datasets[\"test\"],\n",
        "    data_collator=data_collator,\n",
        "    tokenizer=tokenizer,\n",
        "    compute_metrics=compute_metrics\n",
        "    # callbacks=[GPUCallback()]\n",
        ")"
      ],
      "metadata": {
        "id": "-qf9jPnoll2G"
      },
      "execution_count": null,
      "outputs": []
    },
    {
      "cell_type": "code",
      "execution_count": null,
      "metadata": {
        "id": "pDv-tw34fgBR"
      },
      "outputs": [],
      "source": [
        "trainer.evaluate()"
      ]
    }
  ],
  "metadata": {
    "accelerator": "GPU",
    "colab": {
      "machine_shape": "hm",
      "provenance": []
    },
    "gpuClass": "standard",
    "kernelspec": {
      "display_name": "Python 3",
      "name": "python3"
    },
    "language_info": {
      "name": "python"
    }
  },
  "nbformat": 4,
  "nbformat_minor": 0
}